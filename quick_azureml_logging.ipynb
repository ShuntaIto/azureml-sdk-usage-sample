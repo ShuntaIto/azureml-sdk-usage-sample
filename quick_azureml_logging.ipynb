{
 "cells": [
  {
   "cell_type": "markdown",
   "metadata": {
    "application/vnd.databricks.v1+cell": {
     "inputWidgets": {},
     "nuid": "424f6dec-b8d6-4c4d-8819-bd5b828fdeaf",
     "showTitle": false,
     "title": ""
    },
    "gather": {
     "logged": 1639549601534
    },
    "tags": []
   },
   "source": [
    "# 最速で Azure ML を用いて実験管理をするためのテンプレート"
   ]
  },
  {
   "cell_type": "markdown",
   "metadata": {
    "gather": {
     "logged": 1643072021849
    }
   },
   "source": [
    "既存の実験用ノートブックに Azure ML による実験管理機能を最小限の手間で組み込むためのテンプレート\n",
    "\n",
    "https://qiita.com/ShuntaIto/items/9daae0f87dbeca48ccdc"
   ]
  },
  {
   "cell_type": "code",
   "execution_count": null,
   "metadata": {
    "application/vnd.databricks.v1+cell": {
     "inputWidgets": {},
     "nuid": "424f6dec-b8d6-4c4d-8819-bd5b828fdeaf",
     "showTitle": false,
     "title": ""
    },
    "gather": {
     "logged": 1639549601534
    }
   },
   "outputs": [],
   "source": [
    "from azureml.core import Workspace\n",
    "import mlflow\n",
    "import time\n",
    "\n",
    "subscription_id = \"<id>\" # 環境ごとに変更\n",
    "resource_group = '<rg>' # 環境ごとに変更\n",
    "workspace_name = '<ws>' # 環境ごとに変更\n",
    "\n",
    "ws = Workspace(\n",
    "        workspace_name=workspace_name,\n",
    "        subscription_id=subscription_id,\n",
    "        resource_group=resource_group,\n",
    "    )\n",
    "\n",
    "mlflow_uri = ws.get_mlflow_tracking_uri()\n",
    "mlflow.set_tracking_uri(mlflow_uri)\n",
    "\n",
    "experiment_name = \"<experiment_name>\" # 好きな名前を指定\n",
    "mlflow.set_experiment(experiment_name)\n",
    "\n",
    "run_name = f'run_{int(time.time())}' # 実行ごとにかぶらないようにしつつ好きな名前を指定\n",
    "run = mlflow.start_run(run_name=run_name)"
   ]
  },
  {
   "cell_type": "code",
   "execution_count": 1,
   "metadata": {},
   "outputs": [],
   "source": [
    "# 実験コードを記述\n",
    "\n",
    "# パラメーターを記録\n",
    "#mlflow.log_param(\"param_name\", param)\n",
    "\n",
    "# 辞書でパラメーターを定義している場合、丸ごと辞書を記録する\n",
    "#mlflow.log_params(dictionary)\n",
    "\n",
    "# メトリックを記録\n",
    "#mlflow.log_metric(\"metric_name\", metric_value)\n",
    "\n",
    "# 辞書でメトリックをまとめている場合、丸ごと辞書を記録する\n",
    "#mlflow.log_metrics(dictionary)\n",
    "\n",
    "# モデルなど、出力したファイルを記録する\n",
    "#mlflow.log_artifact(local_path, remote_path)"
   ]
  },
  {
   "cell_type": "code",
   "execution_count": null,
   "metadata": {},
   "outputs": [],
   "source": [
    "mlflow.end_run()"
   ]
  }
 ],
 "metadata": {
  "application/vnd.databricks.v1+notebook": {
   "dashboards": [],
   "language": "python",
   "notebookMetadata": {
    "pythonIndentUnit": 4
   },
   "notebookName": "lightgbm_azureml",
   "notebookOrigID": 504830572155536,
   "widgets": {}
  },
  "kernel_info": {
   "name": "python38-azureml"
  },
  "kernelspec": {
   "display_name": "py38-azureml",
   "language": "python",
   "name": "py38-azureml"
  },
  "language_info": {
   "codemirror_mode": {
    "name": "ipython",
    "version": 3
   },
   "file_extension": ".py",
   "mimetype": "text/x-python",
   "name": "python",
   "nbconvert_exporter": "python",
   "pygments_lexer": "ipython3",
   "version": "3.8.12"
  },
  "microsoft": {
   "host": {
    "AzureML": {
     "notebookHasBeenCompleted": true
    }
   }
  },
  "nteract": {
   "version": "nteract-front-end@1.0.0"
  }
 },
 "nbformat": 4,
 "nbformat_minor": 4
}
